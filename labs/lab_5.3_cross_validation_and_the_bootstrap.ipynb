{
 "cells": [
  {
   "cell_type": "markdown",
   "metadata": {},
   "source": [
    "# 5.3.1 The Validation Set Approach"
   ]
  },
  {
   "cell_type": "code",
   "execution_count": 1,
   "metadata": {
    "ExecuteTime": {
     "end_time": "2017-07-25T17:58:38.419468Z",
     "start_time": "2017-07-25T17:58:34.854224Z"
    },
    "collapsed": true
   },
   "outputs": [],
   "source": [
    "# imports and setup\n",
    "import numpy as np\n",
    "\n",
    "import pandas as pd\n",
    "\n",
    "pd.set_option('precision', 2) # number precision for pandas\n",
    "pd.set_option('display.max_rows', 12)\n",
    "pd.set_option('display.float_format', '{:20,.2f}'.format) # get rid of scientific notation"
   ]
  },
  {
   "cell_type": "code",
   "execution_count": 2,
   "metadata": {
    "ExecuteTime": {
     "end_time": "2017-07-25T17:58:22.377861Z",
     "start_time": "2017-07-25T17:58:22.297862Z"
    },
    "collapsed": true
   },
   "outputs": [],
   "source": [
    "# load data\n",
    "auto = pd.read_csv('../datasets/Auto.csv', na_values=['?'])\n",
    "auto.dropna(axis=0, inplace=True)\n",
    "\n",
    "auto.cylinders = auto.cylinders.astype('category')\n",
    "auto.name = auto.name.astype('category')\n",
    "\n",
    "auto.reset_index(inplace=True)\n",
    "\n",
    "auto['horsepower_2'] = np.power(auto.horsepower, 2)\n",
    "auto['horsepower_3'] = np.power(auto.horsepower, 3)\n",
    "auto['horsepower_4'] = np.power(auto.horsepower, 4)\n",
    "auto['horsepower_5'] = np.power(auto.horsepower, 5)"
   ]
  },
  {
   "cell_type": "code",
   "execution_count": 37,
   "metadata": {
    "collapsed": true
   },
   "outputs": [],
   "source": [
    "from sklearn.model_selection import train_test_split\n",
    "\n",
    "X, y = auto.loc[:, ['horsepower', 'horsepower_2', 'horsepower_3']], auto.mpg\n",
    "\n",
    "X_train, X_test, y_train, y_test = train_test_split(X, y, test_size=0.5, random_state=42)"
   ]
  },
  {
   "cell_type": "code",
   "execution_count": 38,
   "metadata": {},
   "outputs": [
    {
     "name": "stdout",
     "output_type": "stream",
     "text": [
      "lm1 MSE: 25.5738781897\n",
      "lm2 MSE: 22.21802005\n",
      "lm3 MSE: 22.6676754355\n"
     ]
    }
   ],
   "source": [
    "from sklearn.linear_model import LinearRegression\n",
    "from sklearn.metrics import mean_squared_error\n",
    "\n",
    "# ols model with intercept\n",
    "lm1 = LinearRegression(fit_intercept=True)\n",
    "lm2 = LinearRegression(fit_intercept=True)\n",
    "lm3 = LinearRegression(fit_intercept=True)\n",
    "\n",
    "lm1_fit = lm1.fit(X_train.loc[:, 'horsepower'].values.reshape(-1, 1), y_train)\n",
    "lm2_fit = lm2.fit(X_train.loc[:, ['horsepower', 'horsepower_2']], y_train)\n",
    "lm3_fit = lm3.fit(X_train.loc[:, ['horsepower', 'horsepower_2', 'horsepower_3']], y_train)\n",
    "\n",
    "lm1_predict = lm1_fit.predict(X_test.loc[:, 'horsepower'].values.reshape(-1, 1))\n",
    "lm2_predict = lm2_fit.predict(X_test.loc[:, ['horsepower', 'horsepower_2']])\n",
    "lm3_predict = lm3_fit.predict(X_test.loc[:, ['horsepower', 'horsepower_2', 'horsepower_3']])\n",
    "\n",
    "print('lm1 MSE:', mean_squared_error(y_test, lm1_predict))\n",
    "print('lm2 MSE:', mean_squared_error(y_test, lm2_predict))\n",
    "print('lm3 MSE:', mean_squared_error(y_test, lm3_predict))"
   ]
  },
  {
   "cell_type": "markdown",
   "metadata": {},
   "source": [
    "# 5.3.2 Leave-One-Out Cross-Validation"
   ]
  },
  {
   "cell_type": "code",
   "execution_count": 57,
   "metadata": {},
   "outputs": [
    {
     "data": {
      "text/plain": [
       "392"
      ]
     },
     "execution_count": 57,
     "metadata": {},
     "output_type": "execute_result"
    }
   ],
   "source": [
    "from sklearn.model_selection import LeaveOneOut\n",
    "\n",
    "X, y = auto.loc[:, ['horsepower', 'horsepower_2', 'horsepower_3', 'horsepower_4', 'horsepower_5']], auto.mpg\n",
    "\n",
    "loocv = LeaveOneOut()\n",
    "loocv.get_n_splits(X)"
   ]
  },
  {
   "cell_type": "code",
   "execution_count": 58,
   "metadata": {},
   "outputs": [
    {
     "data": {
      "text/plain": [
       "24.231513517929226"
      ]
     },
     "execution_count": 58,
     "metadata": {},
     "output_type": "execute_result"
    }
   ],
   "source": [
    "loocv_mse = []\n",
    "\n",
    "for train_index, test_index in loocv.split(X):\n",
    "    X_train, X_test = X.iloc[train_index], X.iloc[test_index]\n",
    "    y_train, y_test = y.iloc[train_index], y.iloc[test_index]\n",
    "    \n",
    "    lm1_fit = lm1.fit(X_train.loc[:, 'horsepower'].values.reshape(-1, 1), y_train)\n",
    "    lm1_predict = lm1_fit.predict(X_test.loc[:, 'horsepower'].values.reshape(-1, 1))\n",
    "    \n",
    "    loocv_mse.append(mean_squared_error(y_test, lm1_predict))\n",
    "    \n",
    "np.array(loocv_mse).mean()"
   ]
  },
  {
   "cell_type": "code",
   "execution_count": 61,
   "metadata": {},
   "outputs": [],
   "source": [
    "# Loop for 5 degree polinomial linear regressions with LOOCV\n",
    "\n",
    "loocv_poly = {}\n",
    "\n",
    "for i in range(1, 6):\n",
    "    \n",
    "    loocv_mse = []\n",
    "    \n",
    "    for train_index, test_index in loocv.split(X):\n",
    "        X_train, X_test = X.iloc[train_index], X.iloc[test_index]\n",
    "        y_train, y_test = y.iloc[train_index], y.iloc[test_index]\n",
    "        \n",
    "        if i == 1:\n",
    "            X_TRAIN = X_train.iloc[:,0:1].values.reshape(-1, 1)\n",
    "            X_TEST = X_test.iloc[:,0:1].values.reshape(-1, 1)\n",
    "        else:\n",
    "            X_TRAIN = X_train.iloc[:,0:i]\n",
    "            X_TEST = X_test.iloc[:,0:i]\n",
    "        \n",
    "        loocv_mse.append(\n",
    "            mean_squared_error(\n",
    "                y_test, \n",
    "                LinearRegression(fit_intercept=True)\n",
    "                .fit(\n",
    "                    X_TRAIN, \n",
    "                    y_train\n",
    "                )\n",
    "                .predict(\n",
    "                    X_TEST\n",
    "                )\n",
    "            )\n",
    "        )\n",
    "        \n",
    "        loocv_poly['lm' + str(i) + '_MSE'] = np.array(loocv_mse).mean()"
   ]
  },
  {
   "cell_type": "code",
   "execution_count": 62,
   "metadata": {},
   "outputs": [
    {
     "data": {
      "text/plain": [
       "{'lm1_MSE': 24.231513517929226,\n",
       " 'lm2_MSE': 19.24821312448967,\n",
       " 'lm3_MSE': 19.334984064029452,\n",
       " 'lm4_MSE': 19.4244303103955,\n",
       " 'lm5_MSE': 19.033212415190256}"
      ]
     },
     "execution_count": 62,
     "metadata": {},
     "output_type": "execute_result"
    }
   ],
   "source": [
    "loocv_poly"
   ]
  },
  {
   "cell_type": "markdown",
   "metadata": {},
   "source": [
    "# 5.3.3 k-Fold Cross-Validation"
   ]
  },
  {
   "cell_type": "code",
   "execution_count": 82,
   "metadata": {
    "collapsed": true
   },
   "outputs": [],
   "source": [
    "from sklearn.model_selection import KFold\n",
    "\n",
    "X, y = auto.loc[:, ['horsepower', 'horsepower_2', 'horsepower_3', 'horsepower_4', 'horsepower_5']], auto.mpg\n",
    "\n",
    "kf = KFold(n_splits=10, shuffle=True, random_state=42)"
   ]
  },
  {
   "cell_type": "code",
   "execution_count": 83,
   "metadata": {},
   "outputs": [
    {
     "data": {
      "text/plain": [
       "{'lm1_MSE': 24.19980819769248,\n",
       " 'lm2_MSE': 19.228636614268019,\n",
       " 'lm3_MSE': 19.266265346631837,\n",
       " 'lm4_MSE': 19.351092272841107,\n",
       " 'lm5_MSE': 19.023233467063985}"
      ]
     },
     "execution_count": 83,
     "metadata": {},
     "output_type": "execute_result"
    }
   ],
   "source": [
    "# Loop for 5 degree polinomial linear regressions with k-Fold CV\n",
    "\n",
    "kf_poly = {}\n",
    "\n",
    "for i in range(1, 6):\n",
    "    \n",
    "    kf_mse = []\n",
    "    \n",
    "    for train_index, test_index in kf.split(X):\n",
    "        X_train, X_test = X.iloc[train_index], X.iloc[test_index]\n",
    "        y_train, y_test = y.iloc[train_index], y.iloc[test_index]\n",
    "        \n",
    "        if i == 1:\n",
    "            X_TRAIN = X_train.iloc[:,0:1].values.reshape(-1, 1)\n",
    "            X_TEST = X_test.iloc[:,0:1].values.reshape(-1, 1)\n",
    "        else:\n",
    "            X_TRAIN = X_train.iloc[:,0:i]\n",
    "            X_TEST = X_test.iloc[:,0:i]\n",
    "        \n",
    "        kf_mse.append(\n",
    "            mean_squared_error(\n",
    "                y_test, \n",
    "                LinearRegression(fit_intercept=True)\n",
    "                .fit(\n",
    "                    X_TRAIN, \n",
    "                    y_train\n",
    "                )\n",
    "                .predict(\n",
    "                    X_TEST\n",
    "                )\n",
    "            )\n",
    "        )\n",
    "        \n",
    "        kf_poly['lm' + str(i) + '_MSE'] = np.array(kf_mse).mean()\n",
    "\n",
    "kf_poly"
   ]
  },
  {
   "cell_type": "markdown",
   "metadata": {},
   "source": [
    "# 5.3.4 The Bootstrap"
   ]
  },
  {
   "cell_type": "code",
   "execution_count": 121,
   "metadata": {},
   "outputs": [
    {
     "data": {
      "text/html": [
       "<div>\n",
       "<style>\n",
       "    .dataframe thead tr:only-child th {\n",
       "        text-align: right;\n",
       "    }\n",
       "\n",
       "    .dataframe thead th {\n",
       "        text-align: left;\n",
       "    }\n",
       "\n",
       "    .dataframe tbody tr th {\n",
       "        vertical-align: top;\n",
       "    }\n",
       "</style>\n",
       "<table border=\"1\" class=\"dataframe\">\n",
       "  <thead>\n",
       "    <tr style=\"text-align: right;\">\n",
       "      <th></th>\n",
       "      <th>X</th>\n",
       "      <th>Y</th>\n",
       "    </tr>\n",
       "  </thead>\n",
       "  <tbody>\n",
       "    <tr>\n",
       "      <th>1</th>\n",
       "      <td>-0.90</td>\n",
       "      <td>-0.23</td>\n",
       "    </tr>\n",
       "    <tr>\n",
       "      <th>2</th>\n",
       "      <td>-1.56</td>\n",
       "      <td>-0.89</td>\n",
       "    </tr>\n",
       "    <tr>\n",
       "      <th>3</th>\n",
       "      <td>-0.42</td>\n",
       "      <td>0.27</td>\n",
       "    </tr>\n",
       "    <tr>\n",
       "      <th>4</th>\n",
       "      <td>1.04</td>\n",
       "      <td>-0.73</td>\n",
       "    </tr>\n",
       "    <tr>\n",
       "      <th>5</th>\n",
       "      <td>-0.32</td>\n",
       "      <td>0.84</td>\n",
       "    </tr>\n",
       "    <tr>\n",
       "      <th>6</th>\n",
       "      <td>-1.74</td>\n",
       "      <td>-2.04</td>\n",
       "    </tr>\n",
       "    <tr>\n",
       "      <th>...</th>\n",
       "      <td>...</td>\n",
       "      <td>...</td>\n",
       "    </tr>\n",
       "    <tr>\n",
       "      <th>95</th>\n",
       "      <td>2.26</td>\n",
       "      <td>0.67</td>\n",
       "    </tr>\n",
       "    <tr>\n",
       "      <th>96</th>\n",
       "      <td>0.48</td>\n",
       "      <td>1.45</td>\n",
       "    </tr>\n",
       "    <tr>\n",
       "      <th>97</th>\n",
       "      <td>-0.54</td>\n",
       "      <td>-0.40</td>\n",
       "    </tr>\n",
       "    <tr>\n",
       "      <th>98</th>\n",
       "      <td>-0.77</td>\n",
       "      <td>-0.96</td>\n",
       "    </tr>\n",
       "    <tr>\n",
       "      <th>99</th>\n",
       "      <td>0.40</td>\n",
       "      <td>1.40</td>\n",
       "    </tr>\n",
       "    <tr>\n",
       "      <th>100</th>\n",
       "      <td>-0.59</td>\n",
       "      <td>-0.50</td>\n",
       "    </tr>\n",
       "  </tbody>\n",
       "</table>\n",
       "<p>100 rows × 2 columns</p>\n",
       "</div>"
      ],
      "text/plain": [
       "                       X                    Y\n",
       "1                  -0.90                -0.23\n",
       "2                  -1.56                -0.89\n",
       "3                  -0.42                 0.27\n",
       "4                   1.04                -0.73\n",
       "5                  -0.32                 0.84\n",
       "6                  -1.74                -2.04\n",
       "..                   ...                  ...\n",
       "95                  2.26                 0.67\n",
       "96                  0.48                 1.45\n",
       "97                 -0.54                -0.40\n",
       "98                 -0.77                -0.96\n",
       "99                  0.40                 1.40\n",
       "100                -0.59                -0.50\n",
       "\n",
       "[100 rows x 2 columns]"
      ]
     },
     "execution_count": 121,
     "metadata": {},
     "output_type": "execute_result"
    }
   ],
   "source": [
    "portfolio = pd.read_csv('../datasets/Portfolio.csv', index_col=0)"
   ]
  },
  {
   "cell_type": "code",
   "execution_count": 131,
   "metadata": {},
   "outputs": [],
   "source": [
    "def alpha_fn(data, start_index, end_index):\n",
    "    X = data['X'][start_index:end_index]\n",
    "    Y = data['Y'][start_index:end_index]\n",
    "    return ((np.var(Y) - np.cov(X, Y)[0][1]) / (np.var(X) + np.var(Y) - 2 * np.cov(X, Y)[0][1]))"
   ]
  },
  {
   "cell_type": "code",
   "execution_count": 145,
   "metadata": {},
   "outputs": [
    {
     "data": {
      "text/plain": [
       "1                    -0.90\n",
       "2                    -1.56\n",
       "3                    -0.42\n",
       "4                     1.04\n",
       "5                    -0.32\n",
       "6                    -1.74\n",
       "              ...         \n",
       "95                    2.26\n",
       "96                    0.48\n",
       "97                   -0.54\n",
       "98                   -0.77\n",
       "99                    0.40\n",
       "100                  -0.59\n",
       "Name: X, Length: 100, dtype: float64"
      ]
     },
     "execution_count": 145,
     "metadata": {},
     "output_type": "execute_result"
    }
   ],
   "source": [
    "alpha_fn(portfolio, 0, 100)"
   ]
  },
  {
   "cell_type": "code",
   "execution_count": 151,
   "metadata": {},
   "outputs": [
    {
     "data": {
      "text/plain": [
       "0.5558252147035091"
      ]
     },
     "execution_count": 151,
     "metadata": {},
     "output_type": "execute_result"
    }
   ],
   "source": [
    "from sklearn.utils import resample\n",
    "\n",
    "portfolio_bs = resample(portfolio, replace=True, n_samples=100)\n",
    "\n",
    "alpha_fn(portfolio_bs, 0, 100)"
   ]
  },
  {
   "cell_type": "code",
   "execution_count": 159,
   "metadata": {},
   "outputs": [
    {
     "name": "stdout",
     "output_type": "stream",
     "text": [
      "Bootstrapped alpha: 0.581196631717\n",
      "SE: 0.0915237905503\n"
     ]
    }
   ],
   "source": [
    "# Bootstrap is removed from sklearn\n",
    "\n",
    "bs_alpha = []\n",
    "\n",
    "for i in range(0, 1000):\n",
    "    bs_alpha.append(\n",
    "        alpha_fn(resample(portfolio, replace=True, n_samples=100), 0, 100)\n",
    "    )\n",
    "\n",
    "bs_alpha = np.array(bs_alpha)\n",
    "\n",
    "print('Bootstrapped alpha:', bs_alpha.mean())\n",
    "print('SE:',  bs_alpha.std())"
   ]
  },
  {
   "cell_type": "code",
   "execution_count": 175,
   "metadata": {},
   "outputs": [
    {
     "data": {
      "text/plain": [
       "(39.935861021170467, array([-0.15784473]))"
      ]
     },
     "execution_count": 175,
     "metadata": {},
     "output_type": "execute_result"
    }
   ],
   "source": [
    "def boot_fn(data, start_index, end_index):\n",
    "    m = LinearRegression(fit_intercept=True).fit(\n",
    "        data['horsepower'][start_index:end_index].values.reshape(-1, 1),\n",
    "        data['mpg'][start_index:end_index]\n",
    "    )\n",
    "    \n",
    "    return m.intercept_, m.coef_\n",
    "    \n",
    "boot_fn(auto, 0, 392)"
   ]
  },
  {
   "cell_type": "code",
   "execution_count": 181,
   "metadata": {},
   "outputs": [
    {
     "data": {
      "text/plain": [
       "(40.809689677179882, array([-0.16538131]))"
      ]
     },
     "execution_count": 181,
     "metadata": {},
     "output_type": "execute_result"
    }
   ],
   "source": [
    "boot_fn(resample(auto, replace=True, n_samples=392), 0, 392)"
   ]
  },
  {
   "cell_type": "code",
   "execution_count": 192,
   "metadata": {},
   "outputs": [
    {
     "name": "stdout",
     "output_type": "stream",
     "text": [
      "t1 bs estimate & se: 39.997299489 0.834333835234\n",
      "t2 bs estimate & se: -0.158152291247 0.00730254193781\n"
     ]
    }
   ],
   "source": [
    "bs_boot = {'t1': [], 't2': []}\n",
    "\n",
    "for i in range(0, 1000):\n",
    "    bs_boot['t1'].append(\n",
    "        boot_fn(resample(auto, replace=True, n_samples=392), 0, 392)[0]\n",
    "    )\n",
    "    bs_boot['t2'].append(\n",
    "        boot_fn(resample(auto, replace=True, n_samples=392), 0, 392)[1][0]\n",
    "    )\n",
    "\n",
    "t1_es = np.array(bs_boot['t1']).mean()\n",
    "t1_se = np.array(bs_boot['t1']).std()\n",
    "t2_es = np.array(bs_boot['t2']).mean()\n",
    "t2_se = np.array(bs_boot['t2']).std()\n",
    "\n",
    "print('t1 bs estimate & se:', t1_es, t1_se)\n",
    "print('t2 bs estimate & se:', t2_es, t2_se)"
   ]
  },
  {
   "cell_type": "code",
   "execution_count": 208,
   "metadata": {},
   "outputs": [
    {
     "data": {
      "text/html": [
       "<table class=\"simpletable\">\n",
       "<tr>\n",
       "       <td></td>         <th>coef</th>     <th>std err</th>      <th>t</th>      <th>P>|t|</th>  <th>[0.025</th>    <th>0.975]</th>  \n",
       "</tr>\n",
       "<tr>\n",
       "  <th>Intercept</th>  <td>   39.9359</td> <td>    0.717</td> <td>   55.660</td> <td> 0.000</td> <td>   38.525</td> <td>   41.347</td>\n",
       "</tr>\n",
       "<tr>\n",
       "  <th>horsepower</th> <td>   -0.1578</td> <td>    0.006</td> <td>  -24.489</td> <td> 0.000</td> <td>   -0.171</td> <td>   -0.145</td>\n",
       "</tr>\n",
       "</table>"
      ],
      "text/plain": [
       "<class 'statsmodels.iolib.table.SimpleTable'>"
      ]
     },
     "execution_count": 208,
     "metadata": {},
     "output_type": "execute_result"
    }
   ],
   "source": [
    "import statsmodels.formula.api as sm\n",
    "\n",
    "ols = sm.ols('mpg ~ horsepower', data=auto).fit()\n",
    "ols.summary().tables[1]"
   ]
  },
  {
   "cell_type": "code",
   "execution_count": 209,
   "metadata": {
    "collapsed": true
   },
   "outputs": [],
   "source": [
    "def boot_fn2(data, start_index, end_index):\n",
    "    m = LinearRegression(fit_intercept=True).fit(\n",
    "        data[['horsepower', 'horsepower_2']][start_index:end_index],\n",
    "        data['mpg'][start_index:end_index]\n",
    "    )\n",
    "    \n",
    "    return m.intercept_, m.coef_"
   ]
  },
  {
   "cell_type": "code",
   "execution_count": 210,
   "metadata": {
    "scrolled": true
   },
   "outputs": [
    {
     "name": "stdout",
     "output_type": "stream",
     "text": [
      "t1 bs estimate & se: 56.938677405 2.05567802367\n",
      "t2 bs estimate & se: -0.467656384492 0.03359604277\n",
      "t3 bs estimate & se: 0.00123271463978 0.000118025824285\n"
     ]
    }
   ],
   "source": [
    "bs_boot2 = {'t1': [], 't2': [], 't3': []}\n",
    "\n",
    "for i in range(0, 1000):\n",
    "    bs_boot2['t1'].append(\n",
    "        boot_fn2(resample(auto, replace=True, n_samples=392), 0, 392)[0]\n",
    "    )\n",
    "    bs_boot2['t2'].append(\n",
    "        boot_fn2(resample(auto, replace=True, n_samples=392), 0, 392)[1][0]\n",
    "    )\n",
    "    bs_boot2['t3'].append(\n",
    "        boot_fn2(resample(auto, replace=True, n_samples=392), 0, 392)[1][1]\n",
    "    )\n",
    "\n",
    "\n",
    "t1_es = np.array(bs_boot2['t1']).mean()\n",
    "t1_se = np.array(bs_boot2['t1']).std()\n",
    "t2_es = np.array(bs_boot2['t2']).mean()\n",
    "t2_se = np.array(bs_boot2['t2']).std()\n",
    "t3_es = np.array(bs_boot2['t3']).mean()\n",
    "t3_se = np.array(bs_boot2['t3']).std()\n",
    "\n",
    "print('t1 bs estimate & se:', t1_es, t1_se)\n",
    "print('t2 bs estimate & se:', t2_es, t2_se)\n",
    "print('t3 bs estimate & se:', t3_es, t3_se)"
   ]
  },
  {
   "cell_type": "code",
   "execution_count": 211,
   "metadata": {},
   "outputs": [
    {
     "data": {
      "text/html": [
       "<table class=\"simpletable\">\n",
       "<tr>\n",
       "        <td></td>          <th>coef</th>     <th>std err</th>      <th>t</th>      <th>P>|t|</th>  <th>[0.025</th>    <th>0.975]</th>  \n",
       "</tr>\n",
       "<tr>\n",
       "  <th>Intercept</th>    <td>   56.9001</td> <td>    1.800</td> <td>   31.604</td> <td> 0.000</td> <td>   53.360</td> <td>   60.440</td>\n",
       "</tr>\n",
       "<tr>\n",
       "  <th>horsepower</th>   <td>   -0.4662</td> <td>    0.031</td> <td>  -14.978</td> <td> 0.000</td> <td>   -0.527</td> <td>   -0.405</td>\n",
       "</tr>\n",
       "<tr>\n",
       "  <th>horsepower_2</th> <td>    0.0012</td> <td>    0.000</td> <td>   10.080</td> <td> 0.000</td> <td>    0.001</td> <td>    0.001</td>\n",
       "</tr>\n",
       "</table>"
      ],
      "text/plain": [
       "<class 'statsmodels.iolib.table.SimpleTable'>"
      ]
     },
     "execution_count": 211,
     "metadata": {},
     "output_type": "execute_result"
    }
   ],
   "source": [
    "import statsmodels.formula.api as sm\n",
    "\n",
    "ols2 = sm.ols('mpg ~ horsepower + horsepower_2', data=auto).fit()\n",
    "ols2.summary().tables[1]"
   ]
  }
 ],
 "metadata": {
  "kernelspec": {
   "display_name": "Python 3",
   "language": "python",
   "name": "python3"
  },
  "language_info": {
   "codemirror_mode": {
    "name": "ipython",
    "version": 3
   },
   "file_extension": ".py",
   "mimetype": "text/x-python",
   "name": "python",
   "nbconvert_exporter": "python",
   "pygments_lexer": "ipython3",
   "version": "3.6.2"
  }
 },
 "nbformat": 4,
 "nbformat_minor": 2
}
