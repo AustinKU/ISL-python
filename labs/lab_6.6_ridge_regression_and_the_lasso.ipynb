{
 "cells": [
  {
   "cell_type": "code",
   "execution_count": 72,
   "metadata": {
    "collapsed": true
   },
   "outputs": [],
   "source": [
    "# imports and setup\n",
    "%matplotlib inline\n",
    "\n",
    "import numpy as np\n",
    "import pandas as pd\n",
    "\n",
    "import seaborn as sns\n",
    "import matplotlib.pyplot as plt\n",
    "\n",
    "pd.set_option('precision', 4) # number precision for pandas\n",
    "pd.set_option('display.max_rows', 12)\n",
    "pd.set_option('display.max_columns', 12)\n",
    "pd.set_option('display.float_format', '{:20,.4f}'.format) # get rid of scientific notation\n",
    "\n",
    "plt.style.use('seaborn') # pretty matplotlib plots"
   ]
  },
  {
   "cell_type": "code",
   "execution_count": 73,
   "metadata": {
    "collapsed": true
   },
   "outputs": [],
   "source": [
    "hitters = pd.read_csv('../datasets/Hitters.csv', index_col=0).dropna()\n",
    "hitters.index.name = 'Player'\n",
    "\n",
    "hitters = hitters.iloc[:, [0,1,2,3,4,5,6,7,8,9,10,11,12,13,14,15,16,17,19,18]] # push salary at the end\n",
    "hitters['League'] = pd.get_dummies(hitters['League']).iloc[:, 0]\n",
    "hitters['Division'] = pd.get_dummies(hitters['Division']).iloc[:, 0]\n",
    "hitters['NewLeague'] = pd.get_dummies(hitters['NewLeague']).iloc[:, 0]\n",
    "\n",
    "X = hitters.iloc[:, 0:19]\n",
    "y = hitters.iloc[:, 19]"
   ]
  },
  {
   "cell_type": "markdown",
   "metadata": {},
   "source": [
    "# 6.6.1 Ridge Regression"
   ]
  },
  {
   "cell_type": "code",
   "execution_count": 74,
   "metadata": {},
   "outputs": [],
   "source": [
    "from sklearn.linear_model import Ridge, RidgeCV, Lasso, LassoCV\n",
    "from sklearn.preprocessing import StandardScaler\n",
    "\n",
    "grid = 10 ** np.linspace(10,-2,100)\n",
    "\n",
    "ridge_model = Ridge(normalize=True)\n",
    "coefs = []\n",
    "\n",
    "for a in grid:\n",
    "    ridge_model.set_params(alpha=a)\n",
    "    ridge_model.fit(X, y)\n",
    "    coefs.append(ridge_model.coef_)"
   ]
  },
  {
   "cell_type": "code",
   "execution_count": 75,
   "metadata": {},
   "outputs": [
    {
     "data": {
      "text/plain": [
       "AtBat                     0.0001\n",
       "Hits                      0.0004\n",
       "HmRun                     0.0015\n",
       "Runs                      0.0006\n",
       "RBI                       0.0007\n",
       "Walks                     0.0008\n",
       "                    ...         \n",
       "League                    0.0011\n",
       "Division                  0.0151\n",
       "PutOuts                   0.0000\n",
       "Assists                   0.0000\n",
       "Errors                   -0.0000\n",
       "NewLeague                 0.0002\n",
       "Length: 19, dtype: float64"
      ]
     },
     "execution_count": 75,
     "metadata": {},
     "output_type": "execute_result"
    }
   ],
   "source": [
    "grid[49], \n",
    "pd.Series(coefs[49], index=X.columns)"
   ]
  },
  {
   "cell_type": "code",
   "execution_count": 63,
   "metadata": {},
   "outputs": [
    {
     "data": {
      "image/png": "[encoded data removed]",
      "text/plain": [
       "<matplotlib.figure.Figure at 0x7febd1901dd8>"
      ]
     },
     "metadata": {},
     "output_type": "display_data"
    }
   ],
   "source": [
    "ax = plt.gca()\n",
    "ax.plot(grid, coefs)\n",
    "ax.set_xscale('log')\n",
    "\n",
    "plt.axis('tight')\n",
    "plt.xlabel('alpha')\n",
    "plt.ylabel('weights');"
   ]
  },
  {
   "cell_type": "code",
   "execution_count": 88,
   "metadata": {
    "collapsed": true
   },
   "outputs": [],
   "source": [
    "from sklearn.model_selection import train_test_split\n",
    "from sklearn.metrics import mean_squared_error\n",
    "\n",
    "X_train, X_test, y_train, y_test = train_test_split(X, y, test_size=0.5, random_state=1)"
   ]
  },
  {
   "cell_type": "code",
   "execution_count": 89,
   "metadata": {},
   "outputs": [
    {
     "data": {
      "text/plain": [
       "106216.52238005561"
      ]
     },
     "execution_count": 89,
     "metadata": {},
     "output_type": "execute_result"
    }
   ],
   "source": [
    "ridge2 = Ridge(alpha=4, normalize=True)\n",
    "ridge2_fit = ridge2.fit(X_train, y_train)\n",
    "y_pred2 = ridge2.predict(X_test)\n",
    "\n",
    "mean_squared_error(y_test, y_pred2)"
   ]
  },
  {
   "cell_type": "code",
   "execution_count": 90,
   "metadata": {},
   "outputs": [
    {
     "name": "stdout",
     "output_type": "stream",
     "text": [
      "AtBat                     0.0987\n",
      "Hits                      0.4461\n",
      "HmRun                     1.4121\n",
      "Runs                      0.6608\n",
      "RBI                       0.8434\n",
      "Walks                     1.0085\n",
      "                    ...         \n",
      "League                   -4.2411\n",
      "Division                 30.7689\n",
      "PutOuts                   0.1047\n",
      "Assists                  -0.0037\n",
      "Errors                    0.2684\n",
      "NewLeague                -4.1235\n",
      "Length: 19, dtype: float64\n"
     ]
    }
   ],
   "source": [
    "print(pd.Series(ridge2_fit.coef_, index=X.columns))"
   ]
  },
  {
   "cell_type": "code",
   "execution_count": null,
   "metadata": {
    "collapsed": true
   },
   "outputs": [],
   "source": []
  }
 ],
 "metadata": {
  "kernelspec": {
   "display_name": "Python 3",
   "language": "python",
   "name": "python3"
  },
  "language_info": {
   "codemirror_mode": {
    "name": "ipython",
    "version": 3
   },
   "file_extension": ".py",
   "mimetype": "text/x-python",
   "name": "python",
   "nbconvert_exporter": "python",
   "pygments_lexer": "ipython3",
   "version": "3.6.2"
  }
 },
 "nbformat": 4,
 "nbformat_minor": 2
}
